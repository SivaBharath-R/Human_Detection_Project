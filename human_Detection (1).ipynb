{
 "cells": [
  {
   "cell_type": "code",
   "execution_count": 19,
   "id": "f61bccb9-2c75-433e-873b-10f72530f2f3",
   "metadata": {},
   "outputs": [
    {
     "name": "stdout",
     "output_type": "stream",
     "text": [
      "End of video or cannot read the video.\n"
     ]
    }
   ],
   "source": [
    "import cv2\n",
    "import mediapipe as mp\n",
    "import time\n",
    "\n",
    "# Initialize Mediapipe\n",
    "mpDraw = mp.solutions.drawing_utils\n",
    "mpPose = mp.solutions.pose\n",
    "pose = mpPose.Pose()\n",
    "\n",
    "# Correct video path\n",
    "video_path = r\"C:\\Users\\rapar\\OneDrive\\Desktop\\project\\Project_2\\video\\video1.mp4\"\n",
    "cap = cv2.VideoCapture(video_path)\n",
    "\n",
    "# Check if the video opened successfully\n",
    "if not cap.isOpened():\n",
    "    print(f\"Error: Could not open video at path: {video_path}\")\n",
    "    exit()\n",
    "\n",
    "pTime = 0\n",
    "\n",
    "while True:\n",
    "    success, img = cap.read()\n",
    "    if not success:\n",
    "        print(\"End of video or cannot read the video.\")\n",
    "        break\n",
    "\n",
    "    # Resize the frame for display purposes\n",
    "    height, width, _ = img.shape\n",
    "    max_width = 1000  \n",
    "    max_height = 800 \n",
    "    scale = min(max_width / width, max_height / height)\n",
    "    img = cv2.resize(img, None, fx=scale, fy=scale)\n",
    "\n",
    "    # Process the frame for pose detection\n",
    "    imgRGB = cv2.cvtColor(img, cv2.COLOR_BGR2RGB)  # Corrected color conversion\n",
    "    result = pose.process(imgRGB)\n",
    "    if result.pose_landmarks:\n",
    "        mpDraw.draw_landmarks(\n",
    "            img, result.pose_landmarks, mpPose.POSE_CONNECTIONS,\n",
    "            landmark_drawing_spec=mpDraw.DrawingSpec(color=(0, 255, 0), thickness=2, circle_radius=2),\n",
    "            connection_drawing_spec=mpDraw.DrawingSpec(color=(0, 255, 0), thickness=2)\n",
    "        )\n",
    "\n",
    "    # FPS calculation and display\n",
    "    cTime = time.time()\n",
    "    fps = 1 / (cTime - pTime)\n",
    "    pTime = cTime\n",
    "    cv2.putText(img, f\"FPS: {int(fps)}\", (20, 70), cv2.FONT_HERSHEY_PLAIN, 3, (0, 255, 0), 2)\n",
    "\n",
    "    # Display the frame\n",
    "    cv2.imshow(\"Pose Detection\", img)\n",
    "    if cv2.waitKey(10) & 0xFF == ord('q'):\n",
    "        break\n",
    "\n",
    "cap.release()\n",
    "cv2.destroyAllWindows()\n"
   ]
  },
  {
   "cell_type": "code",
   "execution_count": null,
   "id": "8527ac4d-893c-4290-a9e9-4f28ff7d21c9",
   "metadata": {},
   "outputs": [],
   "source": []
  },
  {
   "cell_type": "code",
   "execution_count": null,
   "id": "a2bdc2a5-0672-49be-bfcf-a90c65a4cb1d",
   "metadata": {},
   "outputs": [],
   "source": []
  }
 ],
 "metadata": {
  "kernelspec": {
   "display_name": "Python [conda env:base] *",
   "language": "python",
   "name": "conda-base-py"
  },
  "language_info": {
   "codemirror_mode": {
    "name": "ipython",
    "version": 3
   },
   "file_extension": ".py",
   "mimetype": "text/x-python",
   "name": "python",
   "nbconvert_exporter": "python",
   "pygments_lexer": "ipython3",
   "version": "3.12.7"
  }
 },
 "nbformat": 4,
 "nbformat_minor": 5
}
